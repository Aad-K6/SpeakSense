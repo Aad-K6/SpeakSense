{
 "cells": [
  {
   "cell_type": "code",
   "execution_count": 1,
   "id": "13e34f5c",
   "metadata": {},
   "outputs": [
    {
     "name": "stdout",
     "output_type": "stream",
     "text": [
      " * Serving Flask app \"__main__\" (lazy loading)\n",
      " * Environment: production\n",
      "\u001b[31m   WARNING: This is a development server. Do not use it in a production deployment.\u001b[0m\n",
      "\u001b[2m   Use a production WSGI server instead.\u001b[0m\n",
      " * Debug mode: off\n"
     ]
    },
    {
     "name": "stderr",
     "output_type": "stream",
     "text": [
      " * Running on http://127.0.0.1:5000/ (Press CTRL+C to quit)\n",
      "127.0.0.1 - - [01/Jun/2023 21:49:24] \"GET / HTTP/1.1\" 200 -\n",
      "127.0.0.1 - - [01/Jun/2023 21:49:26] \"GET /speech-to-text HTTP/1.1\" 200 -\n",
      "127.0.0.1 - - [01/Jun/2023 21:49:42] \"POST /speech-to-text HTTP/1.1\" 200 -\n",
      "127.0.0.1 - - [01/Jun/2023 21:49:44] \"GET /speech-to-text HTTP/1.1\" 200 -\n",
      "127.0.0.1 - - [01/Jun/2023 21:49:53] \"GET /text-to-speech HTTP/1.1\" 200 -\n",
      "127.0.0.1 - - [01/Jun/2023 21:50:12] \"GET /speech-to-text HTTP/1.1\" 200 -\n",
      "127.0.0.1 - - [01/Jun/2023 21:51:16] \"GET /text-to-speech HTTP/1.1\" 200 -\n",
      "127.0.0.1 - - [01/Jun/2023 21:51:21] \"GET /speech-to-text HTTP/1.1\" 200 -\n"
     ]
    }
   ],
   "source": [
    "from flask import Flask, render_template, request\n",
    "from gtts import gTTS\n",
    "import speech_recognition as sr\n",
    "\n",
    "app = Flask(__name__)\n",
    "\n",
    "@app.route('/')\n",
    "def home():\n",
    "    return render_template('index.html')\n",
    "\n",
    "@app.route('/text-to-speech', methods=['GET', 'POST'])\n",
    "def text_to_speech():\n",
    "    if request.method == 'POST':\n",
    "        text = request.form.get('text')\n",
    "        if text:\n",
    "            tts = gTTS(text=text, lang='en')\n",
    "            tts.save('static/output.mp3')\n",
    "            return render_template('audio.html')\n",
    "    return render_template('text_to_speech.html')\n",
    "\n",
    "@app.route('/speech-to-text', methods=['GET', 'POST'])\n",
    "def speech_to_text():\n",
    "    if request.method == 'POST':\n",
    "        audio = request.files['audio']\n",
    "        if audio:\n",
    "            # Save the uploaded audio file\n",
    "            audio_path = 'static/input.wav'\n",
    "            audio.save(audio_path)\n",
    "\n",
    "            # Perform speech-to-text conversion\n",
    "            r = sr.Recognizer()\n",
    "            with sr.AudioFile(audio_path) as source:\n",
    "                audio_data = r.record(source)\n",
    "                text = r.recognize_google(audio_data)\n",
    "\n",
    "            return render_template('text.html', text=text)\n",
    "\n",
    "    return render_template('speech_to_text.html')\n",
    "\n",
    "if __name__ == '__main__':\n",
    "    app.run()\n"
   ]
  },
  {
   "cell_type": "code",
   "execution_count": null,
   "id": "6a208f7f",
   "metadata": {},
   "outputs": [],
   "source": []
  }
 ],
 "metadata": {
  "kernelspec": {
   "display_name": "Python 3 (ipykernel)",
   "language": "python",
   "name": "python3"
  },
  "language_info": {
   "codemirror_mode": {
    "name": "ipython",
    "version": 3
   },
   "file_extension": ".py",
   "mimetype": "text/x-python",
   "name": "python",
   "nbconvert_exporter": "python",
   "pygments_lexer": "ipython3",
   "version": "3.9.12"
  }
 },
 "nbformat": 4,
 "nbformat_minor": 5
}
